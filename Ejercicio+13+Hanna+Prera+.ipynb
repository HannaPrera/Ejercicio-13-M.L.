{
 "cells": [
  {
   "cell_type": "code",
   "execution_count": 30,
   "metadata": {},
   "outputs": [],
   "source": [
    "import numpy as np\n",
    "import pandas as pd\n",
    "import matplotlib.pyplot as plt\n",
    "from sklearn import linear_model"
   ]
  },
  {
   "cell_type": "code",
   "execution_count": 37,
   "metadata": {},
   "outputs": [],
   "source": [
    "data = pd.read_csv('C:\\\\Users\\\\User\\\\Desktop\\\\data.csv')\n"
   ]
  },
  {
   "cell_type": "code",
   "execution_count": 38,
   "metadata": {},
   "outputs": [
    {
     "data": {
      "text/html": [
       "<div>\n",
       "<style>\n",
       "    .dataframe thead tr:only-child th {\n",
       "        text-align: right;\n",
       "    }\n",
       "\n",
       "    .dataframe thead th {\n",
       "        text-align: left;\n",
       "    }\n",
       "\n",
       "    .dataframe tbody tr th {\n",
       "        vertical-align: top;\n",
       "    }\n",
       "</style>\n",
       "<table border=\"1\" class=\"dataframe\">\n",
       "  <thead>\n",
       "    <tr style=\"text-align: right;\">\n",
       "      <th></th>\n",
       "      <th>x</th>\n",
       "      <th>y</th>\n",
       "    </tr>\n",
       "  </thead>\n",
       "  <tbody>\n",
       "    <tr>\n",
       "      <th>0</th>\n",
       "      <td>6.1101</td>\n",
       "      <td>17.5920</td>\n",
       "    </tr>\n",
       "    <tr>\n",
       "      <th>1</th>\n",
       "      <td>5.5277</td>\n",
       "      <td>9.1302</td>\n",
       "    </tr>\n",
       "    <tr>\n",
       "      <th>2</th>\n",
       "      <td>8.5186</td>\n",
       "      <td>13.6620</td>\n",
       "    </tr>\n",
       "    <tr>\n",
       "      <th>3</th>\n",
       "      <td>7.0032</td>\n",
       "      <td>11.8540</td>\n",
       "    </tr>\n",
       "    <tr>\n",
       "      <th>4</th>\n",
       "      <td>5.8598</td>\n",
       "      <td>6.8233</td>\n",
       "    </tr>\n",
       "  </tbody>\n",
       "</table>\n",
       "</div>"
      ],
      "text/plain": [
       "        x        y\n",
       "0  6.1101  17.5920\n",
       "1  5.5277   9.1302\n",
       "2  8.5186  13.6620\n",
       "3  7.0032  11.8540\n",
       "4  5.8598   6.8233"
      ]
     },
     "execution_count": 38,
     "metadata": {},
     "output_type": "execute_result"
    }
   ],
   "source": [
    "data.head()"
   ]
  },
  {
   "cell_type": "markdown",
   "metadata": {},
   "source": [
    "Regresión lineal"
   ]
  },
  {
   "cell_type": "code",
   "execution_count": 39,
   "metadata": {},
   "outputs": [
    {
     "data": {
      "image/png": "[encoded data removed]",
      "text/plain": [
       "<matplotlib.figure.Figure at 0x21cccc0d780>"
      ]
     },
     "metadata": {},
     "output_type": "display_data"
    }
   ],
   "source": [
    "reg = linear_model.LinearRegression()\n",
    "\n",
    "x = data['x'].values.reshape(-1, 1)\n",
    "y = data['y'].values\n",
    "\n",
    "reg.fit(x,y)\n",
    "\n",
    "y_hat = reg.predict(x)\n",
    "\n",
    "plt.scatter(x, y)\n",
    "plt.plot( x, y_hat, color='red', linewidth=3)\n",
    "plt.show()"
   ]
  },
  {
   "cell_type": "code",
   "execution_count": 40,
   "metadata": {},
   "outputs": [
    {
     "name": "stdout",
     "output_type": "stream",
     "text": [
      " y = 1.1930336441895937 * x  -3.895780878311852\n"
     ]
    }
   ],
   "source": [
    "m = reg.coef_[0]\n",
    "b = reg.intercept_\n",
    "print(' y = {0} * x  {1}'.format(m, b))"
   ]
  },
  {
   "cell_type": "markdown",
   "metadata": {},
   "source": [
    "Batch Gradient Descent"
   ]
  },
  {
   "cell_type": "code",
   "execution_count": 41,
   "metadata": {},
   "outputs": [],
   "source": [
    "x_df = pd.DataFrame(data.x)\n",
    "y_df = pd.DataFrame(data.y)"
   ]
  },
  {
   "cell_type": "code",
   "execution_count": 71,
   "metadata": {},
   "outputs": [],
   "source": [
    "def cost_function(x, y, theta_1, theta_0):\n",
    "\n",
    "    m = len(y)\n",
    "\n",
    "theta_0 = -3.8957808783118537\n",
    "theta_1 = 1.193033644189594\n",
    "x = np.array(x_df).flatten()\n",
    "y = np.array(y_df).flatten()\n",
    "\n",
    "h = theta_1*x + theta_0*1\n",
    "c = np.sum((h-y)**2)/(2*m)\n",
    "\n"
   ]
  },
  {
   "cell_type": "markdown",
   "metadata": {},
   "source": [
    "Batch Gradient Descent \n"
   ]
  },
  {
   "cell_type": "code",
   "execution_count": 107,
   "metadata": {},
   "outputs": [
    {
     "name": "stdout",
     "output_type": "stream",
     "text": [
      "Iteracion:  0\n",
      "Costo:  None\n"
     ]
    },
    {
     "data": {
      "image/png": "[encoded data removed]",
      "text/plain": [
       "<matplotlib.figure.Figure at 0x21cd3787748>"
      ]
     },
     "metadata": {},
     "output_type": "display_data"
    },
    {
     "name": "stdout",
     "output_type": "stream",
     "text": [
      "Iteracion:  20\n",
      "Costo:  None\n"
     ]
    },
    {
     "data": {
      "image/png": "[encoded data removed]",
      "text/plain": [
       "<matplotlib.figure.Figure at 0x21cd0d07978>"
      ]
     },
     "metadata": {},
     "output_type": "display_data"
    },
    {
     "name": "stdout",
     "output_type": "stream",
     "text": [
      "0.875870257732 0.875870257732\n",
      "None\n"
     ]
    }
   ],
   "source": [
    "x = np.array(x_df).flatten() #puntos iniciales\n",
    "y = np.array(y_df).flatten()\n",
    "\n",
    "t0 = 0\n",
    "t1 = 0\n",
    "\n",
    "### ingresa el numero de iteracions y el valor de alpha ###\n",
    "iterations = 30\n",
    "alpha = 0.15 #tamaño de pasos. Se define antes de iniciar el proceso\n",
    "\n",
    "\n",
    "m = len(y) \n",
    "\n",
    "\n",
    "for iteration in range(iterations):\n",
    "    h = t1*x  + t0*1\n",
    "    \n",
    "    grad0 = 1.0/m * sum([(t0 + t1*x[i] - y[i]) for i in range(m)]) \n",
    "    grad1 = 1.0/m * sum([(t0 + t1*x[i] - y[i])*x[i] for i in range(m)])\n",
    "    \n",
    "    theta_0_temp = t0 - alpha * grad0\n",
    "    theta_1_temp = t0 - alpha * grad0\n",
    "    \n",
    "    theta_0 = theta_0_temp\n",
    "    theta_1 = theta_1_temp\n",
    "    \n",
    "   \n",
    "    cost = cost_function(x, y, t1, t0)\n",
    "    \n",
    "    if(iteration % 20 == 0):\n",
    "        print('Iteracion: ', iteration)\n",
    "        print('Costo: ', cost)\n",
    "        h = theta_1*x  + theta_0\n",
    "        plt.scatter(x, y)\n",
    "        plt.plot( x, h, color='pink', linewidth=3)\n",
    "        plt.show()\n",
    "        \n",
    "        \n",
    "print(theta_0, theta_1) \n",
    "print(cost)"
   ]
  },
  {
   "cell_type": "markdown",
   "metadata": {},
   "source": [
    "Gradient Descent con Scikit Learn\n"
   ]
  },
  {
   "cell_type": "code",
   "execution_count": 50,
   "metadata": {},
   "outputs": [
    {
     "data": {
      "image/png": "[encoded data removed]",
      "text/plain": [
       "<matplotlib.figure.Figure at 0x21cd3a1d3c8>"
      ]
     },
     "metadata": {},
     "output_type": "display_data"
    }
   ],
   "source": [
    "x = data['x'].values.reshape(-1, 1)\n",
    "y = data['y'].values\n",
    "\n",
    "clf = linear_model.SGDRegressor(alpha=0.01, loss='squared_loss', max_iter=100)\n",
    "clf.fit(x, y)\n",
    "\n",
    "y_hat = clf.predict(x)\n",
    "\n",
    "plt.scatter(x, y)\n",
    "plt.plot( x, y_hat, color='red', linewidth=3)\n",
    "plt.show()"
   ]
  },
  {
   "cell_type": "code",
   "execution_count": null,
   "metadata": {
    "collapsed": true
   },
   "outputs": [],
   "source": []
  }
 ],
 "metadata": {
  "kernelspec": {
   "display_name": "Python 3",
   "language": "python",
   "name": "python3"
  },
  "language_info": {
   "codemirror_mode": {
    "name": "ipython",
    "version": 3
   },
   "file_extension": ".py",
   "mimetype": "text/x-python",
   "name": "python",
   "nbconvert_exporter": "python",
   "pygments_lexer": "ipython3",
   "version": "3.6.3"
  }
 },
 "nbformat": 4,
 "nbformat_minor": 2
}
